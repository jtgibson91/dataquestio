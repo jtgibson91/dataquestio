{
 "cells": [
  {
   "cell_type": "markdown",
   "metadata": {},
   "source": [
    "# Profitable App Profiles for the App Store and Google Play Markets #\n",
    "\n",
    "Our aim in this project is to find mobile app profiles that are profitable for the App Store and Google Play markets. We're working as data analysts for a company that builds Android and iOS mobile apps, and our job is to enable our team of developers to make data-driven decisions with respect to the kind of apps they build.\n",
    "\n",
    "At our company, we only build apps that are free to download and install, and our main source of revenue consists of in-app ads. This means that our revenue for any given app is mostly influenced by the number of users that use our app. Our goal for this project is to analyze data to help our developers understand what kinds of apps are likely to attract more users."
   ]
  },
  {
   "cell_type": "markdown",
   "metadata": {},
   "source": [
    "## Open and explore the data ##"
   ]
  },
  {
   "cell_type": "code",
   "execution_count": 59,
   "metadata": {
    "collapsed": false
   },
   "outputs": [],
   "source": [
    "from csv import reader\n",
    "\n",
    "dataset_apple = open('AppleStore.csv')\n",
    "dataset_google = open('googleplaystore.csv')\n",
    "\n",
    "# Apple dataset\n",
    "dataset_apple = reader(dataset_apple)\n",
    "dataset_apple = list(dataset_apple)\n",
    "dataset_apple_header = dataset_apple[0]\n",
    "apple = dataset_apple[1:]\n",
    "\n",
    "# Google dataset\n",
    "dataset_google = reader(dataset_google)\n",
    "dataset_google = list(dataset_google)\n",
    "dataset_google_header = dataset_google[0]\n",
    "google = dataset_google[1:]"
   ]
  },
  {
   "cell_type": "markdown",
   "metadata": {},
   "source": [
    "explore_data is a function to explore rows of data. Setting rows_and_columns to True will\n",
    "show the numbers of rows and columns in dataset"
   ]
  },
  {
   "cell_type": "code",
   "execution_count": 60,
   "metadata": {
    "collapsed": true
   },
   "outputs": [],
   "source": [
    "def explore_data(dataset, start, end, rows_and_columns=False):\n",
    "    dataset_slice = dataset[start:end]    \n",
    "    for row in dataset_slice:\n",
    "        print(row)\n",
    "        print('\\n') # adds a new (empty) line after each row\n",
    "\n",
    "    if rows_and_columns:\n",
    "        print('Number of rows:', len(dataset))\n",
    "        print('Number of columns:', len(dataset[0]))"
   ]
  },
  {
   "cell_type": "markdown",
   "metadata": {},
   "source": [
    "Explore the Apple iOS dataset"
   ]
  },
  {
   "cell_type": "code",
   "execution_count": 61,
   "metadata": {
    "collapsed": false
   },
   "outputs": [
    {
     "name": "stdout",
     "output_type": "stream",
     "text": [
      "['284882215', 'Facebook', '389879808', 'USD', '0.0', '2974676', '212', '3.5', '3.5', '95.0', '4+', 'Social Networking', '37', '1', '29', '1']\n",
      "\n",
      "\n",
      "['389801252', 'Instagram', '113954816', 'USD', '0.0', '2161558', '1289', '4.5', '4.0', '10.23', '12+', 'Photo & Video', '37', '0', '29', '1']\n",
      "\n",
      "\n",
      "['529479190', 'Clash of Clans', '116476928', 'USD', '0.0', '2130805', '579', '4.5', '4.5', '9.24.12', '9+', 'Games', '38', '5', '18', '1']\n",
      "\n",
      "\n",
      "['420009108', 'Temple Run', '65921024', 'USD', '0.0', '1724546', '3842', '4.5', '4.0', '1.6.2', '9+', 'Games', '40', '5', '1', '1']\n",
      "\n",
      "\n",
      "['284035177', 'Pandora - Music & Radio', '130242560', 'USD', '0.0', '1126879', '3594', '4.0', '4.5', '8.4.1', '12+', 'Music', '37', '4', '1', '1']\n",
      "\n",
      "\n",
      "Number of rows: 7197\n",
      "Number of columns: 16\n"
     ]
    }
   ],
   "source": [
    "explore_data(apple, 0, 5, rows_and_columns=True)"
   ]
  },
  {
   "cell_type": "markdown",
   "metadata": {},
   "source": [
    "We can see that the iOS dataset contains data on 7198 apps. There are 16 columns. Potentially useful columns for our purpose of determining profitable app profiles are track_name, price, rating_count_tot, user_rating, cont_rating and prime_genre."
   ]
  },
  {
   "cell_type": "markdown",
   "metadata": {},
   "source": [
    "Explore the Google dataset"
   ]
  },
  {
   "cell_type": "code",
   "execution_count": 62,
   "metadata": {
    "collapsed": false
   },
   "outputs": [
    {
     "name": "stdout",
     "output_type": "stream",
     "text": [
      "['Photo Editor & Candy Camera & Grid & ScrapBook', 'ART_AND_DESIGN', '4.1', '159', '19M', '10,000+', 'Free', '0', 'Everyone', 'Art & Design', 'January 7, 2018', '1.0.0', '4.0.3 and up']\n",
      "\n",
      "\n",
      "['Coloring book moana', 'ART_AND_DESIGN', '3.9', '967', '14M', '500,000+', 'Free', '0', 'Everyone', 'Art & Design;Pretend Play', 'January 15, 2018', '2.0.0', '4.0.3 and up']\n",
      "\n",
      "\n",
      "['U Launcher Lite – FREE Live Cool Themes, Hide Apps', 'ART_AND_DESIGN', '4.7', '87510', '8.7M', '5,000,000+', 'Free', '0', 'Everyone', 'Art & Design', 'August 1, 2018', '1.2.4', '4.0.3 and up']\n",
      "\n",
      "\n",
      "['Sketch - Draw & Paint', 'ART_AND_DESIGN', '4.5', '215644', '25M', '50,000,000+', 'Free', '0', 'Teen', 'Art & Design', 'June 8, 2018', 'Varies with device', '4.2 and up']\n",
      "\n",
      "\n",
      "['Pixel Draw - Number Art Coloring Book', 'ART_AND_DESIGN', '4.3', '967', '2.8M', '100,000+', 'Free', '0', 'Everyone', 'Art & Design;Creativity', 'June 20, 2018', '1.1', '4.4 and up']\n",
      "\n",
      "\n",
      "Number of rows: 10841\n",
      "Number of columns: 13\n"
     ]
    }
   ],
   "source": [
    "explore_data(google, 0, 5, rows_and_columns=True)"
   ]
  },
  {
   "cell_type": "markdown",
   "metadata": {
    "collapsed": true
   },
   "source": [
    "We can see that the Google dataset contains data on 10842 apps. There are 13 columns. Potentially useful columns for our purpose of determining profitable app profiles are app, category, ratings, reviews, isntalls, and price, "
   ]
  },
  {
   "cell_type": "markdown",
   "metadata": {},
   "source": [
    "## Delete incorrect data ##\n",
    "\n",
    "A user on the discussion section of Kaggle for the Android dataset reported an error in row 10472. We look at that row and find out the Category column is missing. So delete that row."
   ]
  },
  {
   "cell_type": "code",
   "execution_count": 63,
   "metadata": {
    "collapsed": false
   },
   "outputs": [
    {
     "name": "stdout",
     "output_type": "stream",
     "text": [
      "['Life Made WI-Fi Touchscreen Photo Frame', '1.9', '19', '3.0M', '1,000+', 'Free', '0', 'Everyone', '', 'February 11, 2018', '1.0.19', '4.0 and up']\n",
      "\n",
      "\n",
      "['osmino Wi-Fi: free WiFi', 'TOOLS', '4.2', '134203', '4.1M', '10,000,000+', 'Free', '0', 'Everyone', 'Tools', 'August 7, 2018', '6.06.14', '4.4 and up']\n",
      "\n",
      "\n"
     ]
    }
   ],
   "source": [
    "explore_data(google, 10472, 10473)\n",
    "\n",
    "del google[10472]\n",
    "\n",
    "explore_data(google, 10472, 10473)\n",
    "\n"
   ]
  },
  {
   "cell_type": "markdown",
   "metadata": {},
   "source": [
    "## Delete duplicate data ##\n",
    "\n",
    "Some rows in the Android dataset are duplicates of each other. We can find them using some code like this"
   ]
  },
  {
   "cell_type": "code",
   "execution_count": 64,
   "metadata": {
    "collapsed": false
   },
   "outputs": [
    {
     "name": "stdout",
     "output_type": "stream",
     "text": [
      "Number of duplicate apps: 1181\n",
      "\n",
      "\n",
      "Examples of duplicate apps: ['Quick PDF Scanner + OCR FREE', 'Box', 'Google My Business', 'ZOOM Cloud Meetings', 'join.me - Simple Meetings', 'Box', 'Zenefits', 'Google Ads', 'Google My Business', 'Slack', 'FreshBooks Classic', 'Insightly CRM', 'QuickBooks Accounting: Invoicing & Expenses', 'HipChat - Chat Built for Teams', 'Xero Accounting Software']\n"
     ]
    }
   ],
   "source": [
    "duplicate_apps = []\n",
    "unique_apps = []\n",
    "\n",
    "for app in google:\n",
    "    name = app[0]\n",
    "    if name in unique_apps:\n",
    "        duplicate_apps.append(name)\n",
    "    else:\n",
    "        unique_apps.append(name)\n",
    "    \n",
    "print('Number of duplicate apps:', len(duplicate_apps))\n",
    "print('\\n')\n",
    "print('Examples of duplicate apps:', duplicate_apps[:15])"
   ]
  },
  {
   "cell_type": "markdown",
   "metadata": {},
   "source": [
    "We will delete any duplicate rows. The way we choose which duplicates to delete is by looking at the column 'Reviews' and keeping the row with the highest number of reviews. In other words, we are keeping the most recent data sample for that app.\n",
    "\n",
    "To do that in code, we'll build a dictionary where each key is the name of the app its value is the highest number of reviews for that app. We then create a new dataset with this dictionary, and the dataset will only have one entry per unique app."
   ]
  },
  {
   "cell_type": "code",
   "execution_count": 65,
   "metadata": {
    "collapsed": false
   },
   "outputs": [],
   "source": [
    "unique_apps_dict = {}\n",
    "\n",
    "for app in unique_apps:\n",
    "    max_reviews = 0\n",
    "    for row in google:\n",
    "        if row[0] == app:\n",
    "            if float(row[3]) > max_reviews:\n",
    "                max_reviews = float(row[3])\n",
    "    unique_apps_dict.update({app : max_reviews})\n",
    "\n",
    "# Convert the dict to a list of lists (cleaned dataset)\n",
    "# print(unique_apps_dict)\n",
    "\n",
    "android_clean = []\n",
    "already_added = []\n",
    "\n",
    "for app in google:\n",
    "    name = app[0]\n",
    "    n_reviews = float(app[3])\n",
    "    \n",
    "    if (unique_apps_dict[name] == n_reviews) and (name not in already_added):\n",
    "        android_clean.append(app)\n",
    "        already_added.append(name) # make sure this is inside the if block"
   ]
  },
  {
   "cell_type": "markdown",
   "metadata": {},
   "source": [
    "Do the same as above for apple"
   ]
  },
  {
   "cell_type": "code",
   "execution_count": 66,
   "metadata": {
    "collapsed": false
   },
   "outputs": [],
   "source": [
    "duplicate_apps_apple = []\n",
    "unique_apps_apple = []\n",
    "\n",
    "for app in apple:\n",
    "    name = app[0]\n",
    "    if name in unique_apps_apple:\n",
    "        duplicate_apps_apple.append(name)\n",
    "    else:\n",
    "        unique_apps_apple.append(name)\n",
    "\n",
    "\n",
    "unique_apps_dict_apple = {}\n",
    "\n",
    "for app in unique_apps_apple:\n",
    "    max_reviews = 0\n",
    "    for row in apple:\n",
    "        if row[0] == app:\n",
    "            if float(row[5]) > max_reviews:\n",
    "                max_reviews = float(row[5])\n",
    "    unique_apps_dict_apple.update({app : max_reviews})\n",
    "\n",
    "# Convert the dict to a list of lists (cleaned dataset)\n",
    "\n",
    "apple_clean = []\n",
    "already_added = []\n",
    "\n",
    "for app in apple:\n",
    "    name = app[0]\n",
    "    n_reviews = float(app[5])\n",
    "    \n",
    "    if (unique_apps_dict_apple[name] == n_reviews) and (name not in already_added):\n",
    "        apple_clean.append(app)\n",
    "        already_added.append(name)"
   ]
  },
  {
   "cell_type": "markdown",
   "metadata": {},
   "source": [
    "Look at a few rots of the cleaned dataset and confirm how many rows we have."
   ]
  },
  {
   "cell_type": "code",
   "execution_count": 67,
   "metadata": {
    "collapsed": false,
    "scrolled": true
   },
   "outputs": [
    {
     "name": "stdout",
     "output_type": "stream",
     "text": [
      "['Photo Editor & Candy Camera & Grid & ScrapBook', 'ART_AND_DESIGN', '4.1', '159', '19M', '10,000+', 'Free', '0', 'Everyone', 'Art & Design', 'January 7, 2018', '1.0.0', '4.0.3 and up']\n",
      "\n",
      "\n",
      "['U Launcher Lite – FREE Live Cool Themes, Hide Apps', 'ART_AND_DESIGN', '4.7', '87510', '8.7M', '5,000,000+', 'Free', '0', 'Everyone', 'Art & Design', 'August 1, 2018', '1.2.4', '4.0.3 and up']\n",
      "\n",
      "\n",
      "['Sketch - Draw & Paint', 'ART_AND_DESIGN', '4.5', '215644', '25M', '50,000,000+', 'Free', '0', 'Teen', 'Art & Design', 'June 8, 2018', 'Varies with device', '4.2 and up']\n",
      "\n",
      "\n",
      "Number of rows: 9659\n",
      "Number of columns: 13\n",
      "['284882215', 'Facebook', '389879808', 'USD', '0.0', '2974676', '212', '3.5', '3.5', '95.0', '4+', 'Social Networking', '37', '1', '29', '1']\n",
      "\n",
      "\n",
      "['389801252', 'Instagram', '113954816', 'USD', '0.0', '2161558', '1289', '4.5', '4.0', '10.23', '12+', 'Photo & Video', '37', '0', '29', '1']\n",
      "\n",
      "\n",
      "['529479190', 'Clash of Clans', '116476928', 'USD', '0.0', '2130805', '579', '4.5', '4.5', '9.24.12', '9+', 'Games', '38', '5', '18', '1']\n",
      "\n",
      "\n",
      "Number of rows: 7197\n",
      "Number of columns: 16\n"
     ]
    }
   ],
   "source": [
    "explore_data(android_clean, 0, 3, True)\n",
    "explore_data(apple_clean, 0, 3, True)"
   ]
  },
  {
   "cell_type": "markdown",
   "metadata": {},
   "source": [
    "## Removing Non-English Apps ##\n",
    "\n",
    "Create a function that determines if an app name is in English"
   ]
  },
  {
   "cell_type": "code",
   "execution_count": 68,
   "metadata": {
    "collapsed": false,
    "scrolled": true
   },
   "outputs": [
    {
     "name": "stdout",
     "output_type": "stream",
     "text": [
      "Instagram is an English app\n",
      "爱奇艺PPS -《欢乐颂2》电视剧热播 is not an English app\n",
      "Docs To Go™ Free Office Suite is an English app\n",
      "Instachat 😜 is an English app\n"
     ]
    }
   ],
   "source": [
    "def app_name_in_english(app):\n",
    "    \n",
    "    non_english_letters = 0\n",
    "    \n",
    "    for letter in app:\n",
    "        if ord(letter) > 127:\n",
    "            non_english_letters += 1\n",
    "        \n",
    "    return non_english_letters <= 3\n",
    "\n",
    "test_strings = ['Instagram', '爱奇艺PPS -《欢乐颂2》电视剧热播', \n",
    "               'Docs To Go™ Free Office Suite', 'Instachat 😜']\n",
    "\n",
    "for string in test_strings:\n",
    "    if app_name_in_english(string):\n",
    "        print(string, 'is an English app')\n",
    "    else:\n",
    "        print(string, 'is not an English app')"
   ]
  },
  {
   "cell_type": "markdown",
   "metadata": {},
   "source": [
    "Go through each dataset and examine the app's name. Move rows with English app names to new lists."
   ]
  },
  {
   "cell_type": "code",
   "execution_count": 69,
   "metadata": {
    "collapsed": false,
    "scrolled": false
   },
   "outputs": [
    {
     "name": "stdout",
     "output_type": "stream",
     "text": [
      "['Photo Editor & Candy Camera & Grid & ScrapBook', 'ART_AND_DESIGN', '4.1', '159', '19M', '10,000+', 'Free', '0', 'Everyone', 'Art & Design', 'January 7, 2018', '1.0.0', '4.0.3 and up']\n",
      "\n",
      "\n",
      "['U Launcher Lite – FREE Live Cool Themes, Hide Apps', 'ART_AND_DESIGN', '4.7', '87510', '8.7M', '5,000,000+', 'Free', '0', 'Everyone', 'Art & Design', 'August 1, 2018', '1.2.4', '4.0.3 and up']\n",
      "\n",
      "\n",
      "['Sketch - Draw & Paint', 'ART_AND_DESIGN', '4.5', '215644', '25M', '50,000,000+', 'Free', '0', 'Teen', 'Art & Design', 'June 8, 2018', 'Varies with device', '4.2 and up']\n",
      "\n",
      "\n",
      "Number of rows: 9614\n",
      "Number of columns: 13\n",
      "['284882215', 'Facebook', '389879808', 'USD', '0.0', '2974676', '212', '3.5', '3.5', '95.0', '4+', 'Social Networking', '37', '1', '29', '1']\n",
      "\n",
      "\n",
      "['389801252', 'Instagram', '113954816', 'USD', '0.0', '2161558', '1289', '4.5', '4.0', '10.23', '12+', 'Photo & Video', '37', '0', '29', '1']\n",
      "\n",
      "\n",
      "['529479190', 'Clash of Clans', '116476928', 'USD', '0.0', '2130805', '579', '4.5', '4.5', '9.24.12', '9+', 'Games', '38', '5', '18', '1']\n",
      "\n",
      "\n",
      "Number of rows: 6183\n",
      "Number of columns: 16\n"
     ]
    }
   ],
   "source": [
    "android_clean_english = []\n",
    "apple_clean_english = []\n",
    "\n",
    "for app in android_clean:\n",
    "    name = app[0]\n",
    "    if app_name_in_english(name):\n",
    "        android_clean_english.append(app)\n",
    "        \n",
    "for app in apple_clean:\n",
    "    name = app[1]\n",
    "    if app_name_in_english(name):\n",
    "        apple_clean_english.append(app)\n",
    "        \n",
    "explore_data(android_clean_english, 0, 3, True)\n",
    "explore_data(apple_clean_english, 0, 3, True)"
   ]
  },
  {
   "cell_type": "markdown",
   "metadata": {},
   "source": [
    "## Remove non-free apps ##\n",
    "\n",
    "In the apple dataset, price column is index 4. In the google dataset, price column is index 7. Since this is our final step processing the data, we will name the dataset lists android_final and ios_final."
   ]
  },
  {
   "cell_type": "code",
   "execution_count": 70,
   "metadata": {
    "collapsed": false
   },
   "outputs": [
    {
     "name": "stdout",
     "output_type": "stream",
     "text": [
      "['Photo Editor & Candy Camera & Grid & ScrapBook', 'ART_AND_DESIGN', '4.1', '159', '19M', '10,000+', 'Free', '0', 'Everyone', 'Art & Design', 'January 7, 2018', '1.0.0', '4.0.3 and up']\n",
      "\n",
      "\n",
      "['U Launcher Lite – FREE Live Cool Themes, Hide Apps', 'ART_AND_DESIGN', '4.7', '87510', '8.7M', '5,000,000+', 'Free', '0', 'Everyone', 'Art & Design', 'August 1, 2018', '1.2.4', '4.0.3 and up']\n",
      "\n",
      "\n",
      "['Sketch - Draw & Paint', 'ART_AND_DESIGN', '4.5', '215644', '25M', '50,000,000+', 'Free', '0', 'Teen', 'Art & Design', 'June 8, 2018', 'Varies with device', '4.2 and up']\n",
      "\n",
      "\n",
      "Number of rows: 8864\n",
      "Number of columns: 13\n",
      "['284882215', 'Facebook', '389879808', 'USD', '0.0', '2974676', '212', '3.5', '3.5', '95.0', '4+', 'Social Networking', '37', '1', '29', '1']\n",
      "\n",
      "\n",
      "['389801252', 'Instagram', '113954816', 'USD', '0.0', '2161558', '1289', '4.5', '4.0', '10.23', '12+', 'Photo & Video', '37', '0', '29', '1']\n",
      "\n",
      "\n",
      "['529479190', 'Clash of Clans', '116476928', 'USD', '0.0', '2130805', '579', '4.5', '4.5', '9.24.12', '9+', 'Games', '38', '5', '18', '1']\n",
      "\n",
      "\n",
      "Number of rows: 3222\n",
      "Number of columns: 16\n"
     ]
    }
   ],
   "source": [
    "android_final = []\n",
    "ios_final = []\n",
    "\n",
    "for app in android_clean_english:\n",
    "    price = app[7]\n",
    "    if price == '0':\n",
    "        android_final.append(app)\n",
    "        \n",
    "for app in apple_clean_english:\n",
    "    price = app[4]\n",
    "    if price == '0.0':\n",
    "        ios_final.append(app)\n",
    "        \n",
    "explore_data(android_final, 0, 3, True)\n",
    "explore_data(ios_final, 0, 3, True)"
   ]
  },
  {
   "cell_type": "markdown",
   "metadata": {},
   "source": [
    "## Most Common Apps by Genre ##\n",
    "\n",
    "We will begin our analysis of the data by looking at which apps are most popular on both the Google Play Store and App Store. We want to put our apps on both stores since our free apps generate revenue based on ad impressions. The more people using our apps, the more revenue! \n",
    "\n",
    "The strategy for validating new app ideas is like this:\n",
    "1. Build a minimal Android version of the app, and add it to Google Play.\n",
    "2. If the app has a good response from users, we develop it further.\n",
    "3. If the app is profitable after six months, we build an iOS version of the app and add it to the App Store.\n",
    "\n",
    "First, lets look at the dataset headers and find out which columns can help us determine popular genres."
   ]
  },
  {
   "cell_type": "code",
   "execution_count": 71,
   "metadata": {
    "collapsed": false
   },
   "outputs": [
    {
     "name": "stdout",
     "output_type": "stream",
     "text": [
      "['id', 'track_name', 'size_bytes', 'currency', 'price', 'rating_count_tot', 'rating_count_ver', 'user_rating', 'user_rating_ver', 'ver', 'cont_rating', 'prime_genre', 'sup_devices.num', 'ipadSc_urls.num', 'lang.num', 'vpp_lic']\n",
      "\n",
      "\n",
      "['App', 'Category', 'Rating', 'Reviews', 'Size', 'Installs', 'Type', 'Price', 'Content Rating', 'Genres', 'Last Updated', 'Current Ver', 'Android Ver']\n"
     ]
    }
   ],
   "source": [
    "print(dataset_apple_header)\n",
    "print('\\n')\n",
    "print(dataset_google_header)"
   ]
  },
  {
   "cell_type": "markdown",
   "metadata": {},
   "source": [
    "For the apple dataset, column at index 11, 'prime_genre', is useful.\n",
    "For the google dataset, column at index 1, 'Category', and column at index 9, 'Genres', are useful."
   ]
  },
  {
   "cell_type": "markdown",
   "metadata": {
    "collapsed": true
   },
   "source": [
    "Let's create a function to build frequency tables, and one to display them in order of decreasing category/genre frequency. \n",
    "\n",
    "The display_data function will do similar to display_table but for a dict instead of a dataset (list of lists)."
   ]
  },
  {
   "cell_type": "code",
   "execution_count": 72,
   "metadata": {
    "collapsed": false
   },
   "outputs": [
    {
     "name": "stdout",
     "output_type": "stream",
     "text": [
      "Games : 58.16263190564867\n",
      "Entertainment : 7.883302296710118\n",
      "Photo & Video : 4.9658597144630665\n",
      "Education : 3.662321539416512\n",
      "Social Networking : 3.2898820608317814\n",
      "Shopping : 2.60707635009311\n",
      "Utilities : 2.5139664804469275\n",
      "Sports : 2.1415270018621975\n",
      "Music : 2.0484171322160147\n",
      "Health & Fitness : 2.0173805090006205\n",
      "Productivity : 1.7380509000620732\n",
      "Lifestyle : 1.5828677839851024\n",
      "News : 1.3345747982619491\n",
      "Travel : 1.2414649286157666\n",
      "Finance : 1.1173184357541899\n",
      "Weather : 0.8690254500310366\n",
      "Food & Drink : 0.8069522036002483\n",
      "Reference : 0.5586592178770949\n",
      "Business : 0.5276225946617008\n",
      "Book : 0.4345127250155183\n",
      "Navigation : 0.186219739292365\n",
      "Medical : 0.186219739292365\n",
      "Catalogs : 0.12414649286157665\n",
      "\n",
      "\n",
      "Tools : 8.449909747292418\n",
      "Entertainment : 6.069494584837545\n",
      "Education : 5.347472924187725\n",
      "Business : 4.591606498194946\n",
      "Productivity : 3.892148014440433\n",
      "Lifestyle : 3.892148014440433\n",
      "Finance : 3.7003610108303246\n",
      "Medical : 3.531137184115524\n",
      "Sports : 3.463447653429603\n",
      "Personalization : 3.3167870036101084\n",
      "Communication : 3.2378158844765346\n",
      "Action : 3.1024368231046933\n",
      "Health & Fitness : 3.0798736462093865\n",
      "Photography : 2.944494584837545\n",
      "News & Magazines : 2.7978339350180503\n",
      "Social : 2.6624548736462095\n",
      "Travel & Local : 2.3240072202166067\n",
      "Shopping : 2.2450361010830324\n",
      "Books & Reference : 2.1435018050541514\n",
      "Simulation : 2.0419675090252705\n",
      "Dating : 1.861462093862816\n",
      "Arcade : 1.8501805054151623\n",
      "Video Players & Editors : 1.7712093862815883\n",
      "Casual : 1.7599277978339352\n",
      "Maps & Navigation : 1.3989169675090252\n",
      "Food & Drink : 1.2409747292418771\n",
      "Puzzle : 1.128158844765343\n",
      "Racing : 0.9927797833935018\n",
      "Role Playing : 0.9363718411552346\n",
      "Libraries & Demo : 0.9363718411552346\n",
      "Auto & Vehicles : 0.9250902527075812\n",
      "Strategy : 0.9138086642599278\n",
      "House & Home : 0.8235559566787004\n",
      "Weather : 0.8009927797833934\n",
      "Events : 0.7107400722021661\n",
      "Adventure : 0.6768953068592057\n",
      "Comics : 0.6092057761732852\n",
      "Beauty : 0.5979241877256317\n",
      "Art & Design : 0.5979241877256317\n",
      "Parenting : 0.4963898916967509\n",
      "Card : 0.45126353790613716\n",
      "Casino : 0.42870036101083037\n",
      "Trivia : 0.41741877256317694\n",
      "Educational;Education : 0.39485559566787\n",
      "Board : 0.3835740072202166\n",
      "Educational : 0.3722924187725632\n",
      "Education;Education : 0.33844765342960287\n",
      "Word : 0.2594765342960289\n",
      "Casual;Pretend Play : 0.236913357400722\n",
      "Music : 0.2030685920577617\n",
      "Racing;Action & Adventure : 0.16922382671480143\n",
      "Puzzle;Brain Games : 0.16922382671480143\n",
      "Entertainment;Music & Video : 0.16922382671480143\n",
      "Casual;Brain Games : 0.13537906137184114\n",
      "Casual;Action & Adventure : 0.13537906137184114\n",
      "Arcade;Action & Adventure : 0.12409747292418773\n",
      "Action;Action & Adventure : 0.10153429602888085\n",
      "Educational;Pretend Play : 0.09025270758122744\n",
      "Simulation;Action & Adventure : 0.078971119133574\n",
      "Parenting;Education : 0.078971119133574\n",
      "Entertainment;Brain Games : 0.078971119133574\n",
      "Board;Brain Games : 0.078971119133574\n",
      "Parenting;Music & Video : 0.06768953068592057\n",
      "Educational;Brain Games : 0.06768953068592057\n",
      "Casual;Creativity : 0.06768953068592057\n",
      "Art & Design;Creativity : 0.06768953068592057\n",
      "Education;Pretend Play : 0.056407942238267145\n",
      "Role Playing;Pretend Play : 0.04512635379061372\n",
      "Education;Creativity : 0.04512635379061372\n",
      "Role Playing;Action & Adventure : 0.033844765342960284\n",
      "Puzzle;Action & Adventure : 0.033844765342960284\n",
      "Entertainment;Creativity : 0.033844765342960284\n",
      "Entertainment;Action & Adventure : 0.033844765342960284\n",
      "Educational;Creativity : 0.033844765342960284\n",
      "Educational;Action & Adventure : 0.033844765342960284\n",
      "Education;Music & Video : 0.033844765342960284\n",
      "Education;Brain Games : 0.033844765342960284\n",
      "Education;Action & Adventure : 0.033844765342960284\n",
      "Adventure;Action & Adventure : 0.033844765342960284\n",
      "Video Players & Editors;Music & Video : 0.02256317689530686\n",
      "Sports;Action & Adventure : 0.02256317689530686\n",
      "Simulation;Pretend Play : 0.02256317689530686\n",
      "Puzzle;Creativity : 0.02256317689530686\n",
      "Music;Music & Video : 0.02256317689530686\n",
      "Entertainment;Pretend Play : 0.02256317689530686\n",
      "Casual;Education : 0.02256317689530686\n",
      "Board;Action & Adventure : 0.02256317689530686\n",
      "Video Players & Editors;Creativity : 0.01128158844765343\n",
      "Trivia;Education : 0.01128158844765343\n",
      "Travel & Local;Action & Adventure : 0.01128158844765343\n",
      "Tools;Education : 0.01128158844765343\n",
      "Strategy;Education : 0.01128158844765343\n",
      "Strategy;Creativity : 0.01128158844765343\n",
      "Strategy;Action & Adventure : 0.01128158844765343\n",
      "Simulation;Education : 0.01128158844765343\n",
      "Role Playing;Brain Games : 0.01128158844765343\n",
      "Racing;Pretend Play : 0.01128158844765343\n",
      "Puzzle;Education : 0.01128158844765343\n",
      "Parenting;Brain Games : 0.01128158844765343\n",
      "Music & Audio;Music & Video : 0.01128158844765343\n",
      "Lifestyle;Pretend Play : 0.01128158844765343\n",
      "Lifestyle;Education : 0.01128158844765343\n",
      "Health & Fitness;Education : 0.01128158844765343\n",
      "Health & Fitness;Action & Adventure : 0.01128158844765343\n",
      "Entertainment;Education : 0.01128158844765343\n",
      "Communication;Creativity : 0.01128158844765343\n",
      "Comics;Creativity : 0.01128158844765343\n",
      "Casual;Music & Video : 0.01128158844765343\n",
      "Card;Action & Adventure : 0.01128158844765343\n",
      "Books & Reference;Education : 0.01128158844765343\n",
      "Art & Design;Pretend Play : 0.01128158844765343\n",
      "Art & Design;Action & Adventure : 0.01128158844765343\n",
      "Arcade;Pretend Play : 0.01128158844765343\n",
      "Adventure;Education : 0.01128158844765343\n",
      "\n",
      "\n",
      "FAMILY : 18.907942238267147\n",
      "GAME : 9.724729241877256\n",
      "TOOLS : 8.461191335740072\n",
      "BUSINESS : 4.591606498194946\n",
      "LIFESTYLE : 3.9034296028880866\n",
      "PRODUCTIVITY : 3.892148014440433\n",
      "FINANCE : 3.7003610108303246\n",
      "MEDICAL : 3.531137184115524\n",
      "SPORTS : 3.395758122743682\n",
      "PERSONALIZATION : 3.3167870036101084\n",
      "COMMUNICATION : 3.2378158844765346\n",
      "HEALTH_AND_FITNESS : 3.0798736462093865\n",
      "PHOTOGRAPHY : 2.944494584837545\n",
      "NEWS_AND_MAGAZINES : 2.7978339350180503\n",
      "SOCIAL : 2.6624548736462095\n",
      "TRAVEL_AND_LOCAL : 2.33528880866426\n",
      "SHOPPING : 2.2450361010830324\n",
      "BOOKS_AND_REFERENCE : 2.1435018050541514\n",
      "DATING : 1.861462093862816\n",
      "VIDEO_PLAYERS : 1.7937725631768955\n",
      "MAPS_AND_NAVIGATION : 1.3989169675090252\n",
      "FOOD_AND_DRINK : 1.2409747292418771\n",
      "EDUCATION : 1.1620036101083033\n",
      "ENTERTAINMENT : 0.9589350180505415\n",
      "LIBRARIES_AND_DEMO : 0.9363718411552346\n",
      "AUTO_AND_VEHICLES : 0.9250902527075812\n",
      "HOUSE_AND_HOME : 0.8235559566787004\n",
      "WEATHER : 0.8009927797833934\n",
      "EVENTS : 0.7107400722021661\n",
      "PARENTING : 0.6543321299638989\n",
      "ART_AND_DESIGN : 0.6430505415162455\n",
      "COMICS : 0.6204873646209386\n",
      "BEAUTY : 0.5979241877256317\n",
      "\n",
      "\n"
     ]
    }
   ],
   "source": [
    "def freq_table(dataset, index):\n",
    "    total_apps = len(dataset)\n",
    "    table = {}\n",
    "    \n",
    "    for row in dataset:\n",
    "        if row[index] in table:\n",
    "            table[row[index]] += 1\n",
    "        else:\n",
    "            table.update({row[index] : 1})\n",
    "            \n",
    "    for chunk, frequency in table.items():\n",
    "        table[chunk] = frequency/total_apps*100\n",
    "            \n",
    "    return table\n",
    "            \n",
    "    \n",
    "def display_table(dataset, index):\n",
    "    table = freq_table(dataset, index)\n",
    "    table_display = []\n",
    "    for key in table:\n",
    "        key_val_as_tuple = (table[key], key)\n",
    "        table_display.append(key_val_as_tuple)\n",
    "\n",
    "    table_sorted = sorted(table_display, reverse = True)\n",
    "    for entry in table_sorted:\n",
    "        print(entry[1], ':', entry[0])\n",
    "        \n",
    "    print('\\n')\n",
    "    \n",
    "def display_data(data, top_x=None):\n",
    "    table_display = []\n",
    "    for key in data:\n",
    "        key_val_as_tuple = (data[key], key)\n",
    "        table_display.append(key_val_as_tuple)\n",
    "\n",
    "    table_sorted = sorted(table_display, reverse = True)\n",
    "    \n",
    "    if not top_x:\n",
    "        for entry in table_sorted:\n",
    "            print(entry[1], ':', entry[0])\n",
    "    else:\n",
    "        i = 0\n",
    "        for entry in table_sorted:\n",
    "            if i < top_x:\n",
    "                print(entry[1], ':', entry[0])\n",
    "                i += 1\n",
    "\n",
    "# Build a freqency table for the apple dataset 'prime_genre' \n",
    "# column\n",
    "apple_table = display_table(ios_final, 11)\n",
    "# Build a freqency table for the google dataset 'Genres' \n",
    "# column\n",
    "google_table = display_table(android_final, 9)\n",
    "# Build a freqency table for the 'Category' column\n",
    "google_table2 = display_table(android_final, 1)\n",
    "\n"
   ]
  },
  {
   "cell_type": "markdown",
   "metadata": {},
   "source": [
    "We can see that on the apple app store, the most common genre, by far, is Games. On the google play store, the categories are more evenly distributed. "
   ]
  },
  {
   "cell_type": "markdown",
   "metadata": {},
   "source": [
    "## Find the most popular apps ##\n",
    "\n",
    "To find the most popular apps, we'll look at number of installs for the google dataset, and total user ratings for the apple dataset.\n",
    "\n",
    "### Find the most popular Apple apps ###\n"
   ]
  },
  {
   "cell_type": "code",
   "execution_count": 73,
   "metadata": {
    "collapsed": false
   },
   "outputs": [
    {
     "name": "stdout",
     "output_type": "stream",
     "text": [
      "-- Average number of ratings per genre on App Store --\n",
      "Navigation : 86090.33333333333\n",
      "Reference : 74942.11111111111\n",
      "Social Networking : 71548.34905660378\n",
      "Music : 57326.530303030304\n",
      "Weather : 52279.892857142855\n",
      "Book : 39758.5\n",
      "Food & Drink : 33333.92307692308\n",
      "Finance : 31467.944444444445\n",
      "Photo & Video : 28441.54375\n",
      "Travel : 28243.8\n",
      "Shopping : 26919.690476190477\n",
      "Health & Fitness : 23298.015384615384\n",
      "Sports : 23008.898550724636\n",
      "Games : 22788.6696905016\n",
      "News : 21248.023255813954\n",
      "Productivity : 21028.410714285714\n",
      "Utilities : 18684.456790123455\n",
      "Lifestyle : 16485.764705882353\n",
      "Entertainment : 14029.830708661417\n",
      "Business : 7491.117647058823\n",
      "Education : 7003.983050847458\n",
      "Catalogs : 4004.0\n",
      "Medical : 612.0\n"
     ]
    }
   ],
   "source": [
    "apple_unique_genres = freq_table(ios_final, 11)\n",
    "\n",
    "print('-- Average number of ratings per genre on App Store --')\n",
    "genre_ratings = {}\n",
    "for genre in apple_unique_genres:\n",
    "    apps_in_genre = 0\n",
    "    total = 0\n",
    "    for app in ios_final:\n",
    "        if app[11] == genre:\n",
    "            apps_in_genre += 1\n",
    "            total += float(app[5])\n",
    "    avg_rating = total/apps_in_genre\n",
    "    genre_ratings.update({genre : avg_rating})\n",
    "\n",
    "display_data(genre_ratings)"
   ]
  },
  {
   "cell_type": "markdown",
   "metadata": {
    "collapsed": false
   },
   "source": [
    "The top 3 most popular categories are Social Networking, Music, and Reference. Social Networking and Music are dominated by major apps like Facebook/Instagram/Twitter and Spotify/Pandora/Soundcloud, so it is probably best for our company to avoid those categories.\n",
    "\n",
    "The Reference category shows potential as it is not quite dominated by top apps like the other categories. We should zero in on that category for the Apple App Store."
   ]
  },
  {
   "cell_type": "markdown",
   "metadata": {
    "collapsed": true
   },
   "source": [
    "### Find the most popular Google apps ###\n"
   ]
  },
  {
   "cell_type": "code",
   "execution_count": 74,
   "metadata": {
    "collapsed": false
   },
   "outputs": [
    {
     "name": "stdout",
     "output_type": "stream",
     "text": [
      "COMMUNICATION : 38456119.167247385\n",
      "VIDEO_PLAYERS : 24727872.452830188\n",
      "SOCIAL : 23253652.127118643\n",
      "PHOTOGRAPHY : 17840110.40229885\n",
      "PRODUCTIVITY : 16787331.344927534\n",
      "GAME : 15588015.603248259\n",
      "TRAVEL_AND_LOCAL : 13984077.710144928\n",
      "ENTERTAINMENT : 11640705.88235294\n",
      "TOOLS : 10801391.298666667\n",
      "NEWS_AND_MAGAZINES : 9549178.467741935\n",
      "BOOKS_AND_REFERENCE : 8767811.894736841\n",
      "SHOPPING : 7036877.311557789\n",
      "PERSONALIZATION : 5201482.6122448975\n",
      "WEATHER : 5074486.197183099\n",
      "HEALTH_AND_FITNESS : 4188821.9853479853\n",
      "MAPS_AND_NAVIGATION : 4056941.7741935486\n",
      "FAMILY : 3695641.8198090694\n",
      "SPORTS : 3638640.1428571427\n",
      "ART_AND_DESIGN : 1986335.0877192982\n",
      "FOOD_AND_DRINK : 1924897.7363636363\n",
      "EDUCATION : 1833495.145631068\n",
      "BUSINESS : 1712290.1474201474\n",
      "LIFESTYLE : 1437816.2687861272\n",
      "FINANCE : 1387692.475609756\n",
      "HOUSE_AND_HOME : 1331540.5616438356\n",
      "DATING : 854028.8303030303\n",
      "COMICS : 817657.2727272727\n",
      "AUTO_AND_VEHICLES : 647317.8170731707\n",
      "LIBRARIES_AND_DEMO : 638503.734939759\n",
      "PARENTING : 542603.6206896552\n",
      "BEAUTY : 513151.88679245283\n",
      "EVENTS : 253542.22222222222\n",
      "MEDICAL : 120550.61980830671\n"
     ]
    }
   ],
   "source": [
    "android_unique_categories = freq_table(android_final, 1)\n",
    "# print(android_unique_categories)\n",
    "\n",
    "category_installs = {}\n",
    "for category in android_unique_categories:\n",
    "    apps_in_category = 0\n",
    "    total_installs = 0\n",
    "    for app in android_final:\n",
    "        if app[1] == category:\n",
    "            apps_in_category += 1\n",
    "            installs = app[5]\n",
    "            # Remove plus sign and commas\n",
    "            installs = installs.replace('+', '')\n",
    "            installs = float(installs.replace(',', ''))\n",
    "            total_installs += installs\n",
    "    \n",
    "    avg_installs = total_installs/apps_in_category\n",
    "    category_installs.update({category : avg_installs})\n",
    "    \n",
    "display_data(category_installs)"
   ]
  },
  {
   "cell_type": "markdown",
   "metadata": {},
   "source": [
    "The most popular app categories in the Google Play Store are COMMUNICATION with an average number of installs of: 38456119. Second most is VIDEO_PLAYERS with 24727872 installs. The third most popular is SOCIAL with 23253652 installs.\n",
    "\n",
    "Let's take a look at the apps in the COMMUNICATION category."
   ]
  },
  {
   "cell_type": "code",
   "execution_count": 75,
   "metadata": {
    "collapsed": false,
    "scrolled": false
   },
   "outputs": [
    {
     "name": "stdout",
     "output_type": "stream",
     "text": [
      "-- Number of installs for Google Play Store apps in category COMMUNICATION --\n",
      "WhatsApp Messenger : 1000000000.0\n",
      "Skype - free IM & video calls : 1000000000.0\n",
      "Messenger – Text and Video Chat for Free : 1000000000.0\n",
      "Hangouts : 1000000000.0\n",
      "Google Chrome: Fast & Secure : 1000000000.0\n",
      "Gmail : 1000000000.0\n",
      "imo free video calls and chat : 500000000.0\n",
      "Viber Messenger : 500000000.0\n",
      "UC Browser - Fast Download Private & Secure : 500000000.0\n",
      "LINE: Free Calls & Messages : 500000000.0\n"
     ]
    }
   ],
   "source": [
    "print('-- Number of installs for Google Play Store apps in category COMMUNICATION --')\n",
    "app_installs = {}\n",
    "for app in android_final:\n",
    "    category = app[1]\n",
    "    app_name = app[0]\n",
    "    installs = float(app[5].replace('+', '').replace(',', ''))\n",
    "    \n",
    "    if category == 'COMMUNICATION':\n",
    "        if app_name not in app_installs:\n",
    "            app_installs.update({app_name : installs})\n",
    "        elif installs > app_installs[app_name]:\n",
    "            app_installs[app_name] = installs\n",
    "            \n",
    "\n",
    "display_data(app_installs, top_x=10)"
   ]
  },
  {
   "cell_type": "markdown",
   "metadata": {},
   "source": [
    "6 of the top 10 apps have 1 billion or more installs. The corporations who run these apps are the likes of Google, Facebook. and Microsoft. We probably can't compete with them so this category most likely isn't the best choice for develping an app prototype in.\n",
    "\n",
    "Now let's look at the second and third most popular categories, VIDEO_PLAYERS and SOCIAL:"
   ]
  },
  {
   "cell_type": "code",
   "execution_count": 76,
   "metadata": {
    "collapsed": false,
    "scrolled": false
   },
   "outputs": [
    {
     "name": "stdout",
     "output_type": "stream",
     "text": [
      "-- Number of installs for Google Play Store apps in category VIDEO_PLAYERS --\n",
      "YouTube : 1000000000.0\n",
      "Google Play Movies & TV : 1000000000.0\n",
      "MX Player : 500000000.0\n",
      "VivaVideo - Video Editor & Photo Movie : 100000000.0\n",
      "VideoShow-Video Editor, Video Maker, Beauty Camera : 100000000.0\n",
      "VLC for Android : 100000000.0\n",
      "Motorola Gallery : 100000000.0\n",
      "Motorola FM Radio : 100000000.0\n",
      "Dubsmash : 100000000.0\n",
      "Vote for : 50000000.0\n",
      "\n",
      "\n",
      "-- Number of installs for Google Play Store apps in category SOCIAL --\n",
      "Instagram : 1000000000.0\n",
      "Google+ : 1000000000.0\n",
      "Facebook : 1000000000.0\n",
      "Snapchat : 500000000.0\n",
      "Facebook Lite : 500000000.0\n",
      "VK : 100000000.0\n",
      "Tumblr : 100000000.0\n",
      "Tik Tok - including musical.ly : 100000000.0\n",
      "Tango - Live Video Broadcast : 100000000.0\n",
      "Pinterest : 100000000.0\n"
     ]
    }
   ],
   "source": [
    "print('-- Number of installs for Google Play Store apps in category VIDEO_PLAYERS --')\n",
    "app_installs = {}\n",
    "for app in android_final:\n",
    "    category = app[1]\n",
    "    app_name = app[0]\n",
    "    installs = float(app[5].replace('+', '').replace(',', ''))\n",
    "    \n",
    "    if category == 'VIDEO_PLAYERS':\n",
    "        if app_name not in app_installs:\n",
    "            app_installs.update({app_name : installs})\n",
    "        elif installs > app_installs[app_name]:\n",
    "            app_installs[app_name] = installs\n",
    "            \n",
    "\n",
    "display_data(app_installs, top_x=10)\n",
    "\n",
    "\n",
    "print('\\n')\n",
    "print('-- Number of installs for Google Play Store apps in category SOCIAL --')\n",
    "app_installs_SOCIAL = {}\n",
    "for app in android_final:\n",
    "    category = app[1]\n",
    "    app_name = app[0]\n",
    "    installs = float(app[5].replace('+', '').replace(',', ''))\n",
    "    \n",
    "    if category == 'SOCIAL':\n",
    "        if app_name not in app_installs_SOCIAL:\n",
    "            app_installs_SOCIAL.update({app_name : installs})\n",
    "        elif installs > app_installs_SOCIAL[app_name]:\n",
    "            app_installs_SOCIAL[app_name] = installs\n",
    "            \n",
    "\n",
    "display_data(app_installs_SOCIAL, top_x=10)"
   ]
  },
  {
   "cell_type": "markdown",
   "metadata": {},
   "source": [
    "Similar to the apps in COMMUNICATION, the apps in VIDEO_PLAYERS and SOCIAL categories are taken over by a few major apps/corporations that are difficult to compete with. \n",
    "\n",
    "Let's take a look at apps in BOOKS_AND_REFERENCE:"
   ]
  },
  {
   "cell_type": "code",
   "execution_count": 77,
   "metadata": {
    "collapsed": false
   },
   "outputs": [
    {
     "name": "stdout",
     "output_type": "stream",
     "text": [
      "-- Number of installs for Google Play Store apps in category BOOKS_AND_REFERENCE --\n",
      "Google Play Books : 1000000000.0\n",
      "Wattpad 📖 Free Books : 100000000.0\n",
      "Bible : 100000000.0\n",
      "Audiobooks from Audible : 100000000.0\n",
      "Amazon Kindle : 100000000.0\n",
      "Wikipedia : 10000000.0\n",
      "Spanish English Translator : 10000000.0\n",
      "Quran for Android : 10000000.0\n",
      "Oxford Dictionary of English : Free : 10000000.0\n",
      "NOOK: Read eBooks & Magazines : 10000000.0\n",
      "Moon+ Reader : 10000000.0\n",
      "JW Library : 10000000.0\n",
      "HTC Help : 10000000.0\n",
      "FBReader: Favorite Book Reader : 10000000.0\n",
      "English Hindi Dictionary : 10000000.0\n",
      "English Dictionary - Offline : 10000000.0\n",
      "Dictionary.com: Find Definitions for English Words : 10000000.0\n",
      "Dictionary - Merriam-Webster : 10000000.0\n",
      "Dictionary : 10000000.0\n",
      "Cool Reader : 10000000.0\n",
      "Aldiko Book Reader : 10000000.0\n",
      "Al-Quran (Free) : 10000000.0\n",
      "Al'Quran Bahasa Indonesia : 10000000.0\n",
      "Al Quran Indonesia : 10000000.0\n",
      "Read books online : 5000000.0\n",
      "English to Hindi Dictionary : 5000000.0\n",
      "Ebook Reader : 5000000.0\n",
      "Dictionary - WordWeb : 5000000.0\n",
      "Bible KJV : 5000000.0\n",
      "Ancestry : 5000000.0\n",
      "AlReader -any text book reader : 5000000.0\n",
      "Al Quran : EAlim - Translations & MP3 Offline : 5000000.0\n",
      "50000 Free eBooks & Free AudioBooks : 5000000.0\n",
      "wikiHow: how to do anything : 1000000.0\n",
      "eBoox: book reader fb2 epub zip : 1000000.0\n",
      "Stats Royale for Clash Royale : 1000000.0\n",
      "Satellite AR : 1000000.0\n",
      "ReadEra – free ebook reader : 1000000.0\n",
      "Oxford A-Z of English Usage : 1000000.0\n",
      "My Little Pony AR Guide : 1000000.0\n"
     ]
    }
   ],
   "source": [
    "print('-- Number of installs for Google Play Store apps in category BOOKS_AND_REFERENCE --')\n",
    "app_installs = {}\n",
    "for app in android_final:\n",
    "    category = app[1]\n",
    "    app_name = app[0]\n",
    "    installs = float(app[5].replace('+', '').replace(',', ''))\n",
    "    \n",
    "    if category == 'BOOKS_AND_REFERENCE':\n",
    "        if app_name not in app_installs:\n",
    "            app_installs.update({app_name : installs})\n",
    "        elif installs > app_installs[app_name]:\n",
    "            app_installs[app_name] = installs\n",
    "            \n",
    "\n",
    "display_data(app_installs, top_x=40)"
   ]
  },
  {
   "cell_type": "markdown",
   "metadata": {
    "collapsed": true
   },
   "source": [
    "The apps in this category are relatively popular and appear not to be as dominated by the massively popular apps like the case with other categories like COMMUNICATION, SOCIAL, AND VIDEO_PLAYERS. In other words, there is some room for potential here. \n",
    "\n",
    "One potential avenue would be to select an already-popular book, like the Quran, and then add some special features besides the raw version of the book. This might include daily quotes from the book, an audio version of the book, quizzes on the book, a forum where people can discuss the book, etc.\n"
   ]
  },
  {
   "cell_type": "markdown",
   "metadata": {},
   "source": [
    "## Conclusions ##\n",
    "\n",
    "In this project, we analyzed data about the App Store and Google Play mobile apps with the goal of recommending an app profile that can be profitable for both markets.\n",
    "\n",
    "We concluded that taking a popular book (perhaps a more recent book) and turning it into an app could be profitable for both the Google Play and the App Store markets. The markets are already full of libraries, so we need to add some special features besides the raw version of the book. This might include daily quotes from the book, an audio version of the book, quizzes on the book, a forum where people can discuss the book, etc."
   ]
  }
 ],
 "metadata": {
  "kernelspec": {
   "display_name": "Python 3",
   "language": "python",
   "name": "python3"
  },
  "language_info": {
   "codemirror_mode": {
    "name": "ipython",
    "version": 3
   },
   "file_extension": ".py",
   "mimetype": "text/x-python",
   "name": "python",
   "nbconvert_exporter": "python",
   "pygments_lexer": "ipython3",
   "version": "3.4.3"
  }
 },
 "nbformat": 4,
 "nbformat_minor": 2
}
